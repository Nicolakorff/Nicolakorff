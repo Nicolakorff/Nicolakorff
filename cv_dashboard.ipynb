{
 "cells": [
  {
   "cell_type": "code",
   "execution_count": null,
   "id": "c58d4fa7-59b8-4d8b-8cf4-3a109e0b6bc0",
   "metadata": {},
   "outputs": [],
   "source": [
    "pip install dash plotly pandas"
   ]
  },
  {
   "cell_type": "code",
   "execution_count": 8,
   "id": "4c68e95b-efb2-42af-9dc8-b452d02c759c",
   "metadata": {},
   "outputs": [
    {
     "data": {
      "text/html": [
       "\n",
       "        <iframe\n",
       "            width=\"100%\"\n",
       "            height=\"650\"\n",
       "            src=\"http://127.0.0.1:8050/\"\n",
       "            frameborder=\"0\"\n",
       "            allowfullscreen\n",
       "            \n",
       "        ></iframe>\n",
       "        "
      ],
      "text/plain": [
       "<IPython.lib.display.IFrame at 0x122cb1ca0>"
      ]
     },
     "metadata": {},
     "output_type": "display_data"
    }
   ],
   "source": [
    "import dash\n",
    "from dash import dcc, html\n",
    "import plotly.express as px\n",
    "import pandas as pd\n",
    "\n",
    "# Datos personales y enlaces con iconos\n",
    "personal_info = html.Div([\n",
    "    html.H1(\"Nicola Korff\", style={\"textAlign\": \"center\"}),\n",
    "    html.P(\"Análisis de Datos | Machine Learning | PNL | Lingüística Computacional\", style={\"textAlign\": \"center\"}),\n",
    "    html.P(\"Barcelona/Ibiza | nicolavonkorff@gmail.com\", style={\"textAlign\": \"center\"}),\n",
    "    html.Div([\n",
    "        html.A(html.Img(src=\"https://cdn-icons-png.flaticon.com/32/174/174857.png\", height=\"20px\"),\n",
    "               href=\"https://linkedin.com/in/nicola-korff\", target=\"_blank\"),\n",
    "        \" \",\n",
    "        html.A(html.Img(src=\"https://cdn-icons-png.flaticon.com/32/25/25231.png\", height=\"20px\"),\n",
    "               href=\"https://github.com/Nicolakorff\", target=\"_blank\"),\n",
    "    ], style={\"textAlign\": \"center\"})\n",
    "])\n",
    "\n",
    "# Perfil profesional\n",
    "profile = html.Div([\n",
    "    html.H2(\"Perfil Profesional\"),\n",
    "    html.P(\"Profesional en el ámbito de Análisis de Datos, Machine Learning y Lingüística Computacional, con sólida experiencia en gestión de proyectos, generación de contenidos y organización de bases de datos.\"),\n",
    "    html.P(\"Apasionada por la creatividad, el autoaprendizaje y la solución de problemas complejos, con habilidades avanzadas en programación y manejo de herramientas analíticas.\")\n",
    "])\n",
    "\n",
    "# Datos de experiencia profesional\n",
    "experience_df = pd.DataFrame({\n",
    "    \"Empresa\": [\"Hara Yoga Bcn\", \"Arte y Memoria S.L.\", \"Ediciones Obelisco S.L.\", \"Autónoma\"],\n",
    "    \"Años\": [1, 3, 6, 10]\n",
    "})\n",
    "fig_experience = px.bar(experience_df, x=\"Empresa\", y=\"Años\", title=\"Experiencia Profesional\", \n",
    "                         color_discrete_sequence=[\"#6495ed\"])\n",
    "\n",
    "# Datos de habilidades técnicas en gráfico de burbujas\n",
    "skills_df = pd.DataFrame({\n",
    "    \"Habilidad\": [\"Python\", \"SQL\", \"R\", \"Tableau\", \"Power BI\"],\n",
    "    \"Nivel\": [30, 20, 18, 15, 20]\n",
    "})\n",
    "fig_skills = px.scatter(skills_df, x=\"Habilidad\", y=\"Nivel\", size=\"Nivel\", title=\"Habilidades Técnicas\",\n",
    "                         color_discrete_sequence=[\"#ffa812\"])\n",
    "\n",
    "# Datos de educación\n",
    "education_df = pd.DataFrame({\n",
    "    \"Año\": [2017, 2024, 2024, 2025, 2026],\n",
    "    \"Evento\": [\"Grado en Conservación y Restauración\", \"Bootcamp ML Aplicat al Negoci\", \"Bootcamp Análisis de Datos\", \"AI Developer Certificate\", \"Master en Grandes Modelos de Lenguaje - Univ. de la Rioja\"]\n",
    "})\n",
    "fig_education = px.line(education_df, x=\"Año\", y=\"Evento\", title=\"Educación y Certificaciones\",\n",
    "                         markers=True, line_shape='linear', color_discrete_sequence=[\"#fed903\"])\n",
    "\n",
    "# Datos de idiomas en gráfico de queso con colores verdes\n",
    "languages_df = pd.DataFrame({\n",
    "    \"Idioma\": [\"Español\", \"Alemán\", \"Inglés\", \"Catalán\", \"Francés\"],\n",
    "    \"Nivel\": [5, 5, 5, 5, 3]\n",
    "})\n",
    "fig_languages = px.pie(languages_df, names=\"Idioma\", values=\"Nivel\", title=\"Idiomas\",\n",
    "                        color_discrete_sequence=px.colors.sequential.Greens)\n",
    "\n",
    "# Soft skills en tarjeta informativa\n",
    "soft_skills = html.Div([\n",
    "    html.H2(\"Soft Skills\", style={\"textAlign\": \"left\"}),\n",
    "    html.Ul([\n",
    "        html.Li(\"Creatividad\"),\n",
    "        html.Li(\"Trabajo en equipo\"),\n",
    "        html.Li(\"Adaptabilidad\"),\n",
    "        html.Li(\"Resolución de problemas\"),\n",
    "        html.Li(\"Comunicación efectiva\")\n",
    "    ], style={\"textAlign\": \"left\"})\n",
    "])\n",
    "\n",
    "# Crear la aplicación Dash\n",
    "app = dash.Dash(__name__)\n",
    "app.layout = html.Div([\n",
    "    personal_info,\n",
    "    profile,\n",
    "    dcc.Graph(figure=fig_experience),\n",
    "    dcc.Graph(figure=fig_skills),\n",
    "    dcc.Graph(figure=fig_education),\n",
    "    dcc.Graph(figure=fig_languages),\n",
    "    soft_skills\n",
    "])\n",
    "\n",
    "if __name__ == \"__main__\":\n",
    "    app.run_server(debug=True)\n"
   ]
  },
  {
   "cell_type": "markdown",
   "id": "a184632a-41f5-4036-acad-469e7c3f6847",
   "metadata": {},
   "source": [
    "http://127.0.0.1:8050/"
   ]
  }
 ],
 "metadata": {
  "kernelspec": {
   "display_name": "Python 3 (ipykernel)",
   "language": "python",
   "name": "python3"
  },
  "language_info": {
   "codemirror_mode": {
    "name": "ipython",
    "version": 3
   },
   "file_extension": ".py",
   "mimetype": "text/x-python",
   "name": "python",
   "nbconvert_exporter": "python",
   "pygments_lexer": "ipython3",
   "version": "3.12.4"
  }
 },
 "nbformat": 4,
 "nbformat_minor": 5
}
